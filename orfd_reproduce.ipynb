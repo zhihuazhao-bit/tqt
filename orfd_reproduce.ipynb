{
 "cells": [
  {
   "cell_type": "code",
   "execution_count": 15,
   "id": "1ed63ddb",
   "metadata": {
    "vscode": {
     "languageId": "plaintext"
    }
   },
   "outputs": [],
   "source": [
    "import cv2\n",
    "import numpy as np"
   ]
  },
  {
   "cell_type": "code",
   "execution_count": 10,
   "id": "19de733a-42cb-45f2-88e2-f6022430fc73",
   "metadata": {},
   "outputs": [],
   "source": [
    "city_label_path = r'/root/tqdm/datasets/cityscapes/gtFine/test/berlin/berlin_000527_000019_gtFine_labelTrainIds.png'\n",
    "city_label_path = r'/root/tqdm/datasets/gta/data/labels/train/23003_labelTrainIds.png'"
   ]
  },
  {
   "cell_type": "code",
   "execution_count": 3,
   "id": "4a6b8fcc-c3ce-465e-a3a9-beee42c46107",
   "metadata": {},
   "outputs": [],
   "source": [
    "orfd_label_path = r'/root/tqdm/datasets/ORFD/training/c2021_0228_1819/gt_image/1620331020738_fillcolor.png'"
   ]
  },
  {
   "cell_type": "code",
   "execution_count": 11,
   "id": "4ec142cd-efb1-4494-bd4c-d0ba913b0fde",
   "metadata": {},
   "outputs": [],
   "source": [
    "city_label = cv2.imread(city_label_path)"
   ]
  },
  {
   "cell_type": "code",
   "execution_count": 5,
   "id": "8d53fb09-7467-4235-a3f7-4a9f1e320620",
   "metadata": {},
   "outputs": [],
   "source": [
    "orfd_label = cv2.imread(orfd_label_path)"
   ]
  },
  {
   "cell_type": "code",
   "execution_count": 6,
   "id": "b3f131e7-099c-4385-bd01-ee6869f7d8a0",
   "metadata": {},
   "outputs": [
    {
     "data": {
      "text/plain": [
       "(1024, 2048, 3)"
      ]
     },
     "execution_count": 6,
     "metadata": {},
     "output_type": "execute_result"
    }
   ],
   "source": [
    "city_label.shape"
   ]
  },
  {
   "cell_type": "code",
   "execution_count": 7,
   "id": "387f9f04-33da-4062-99f6-84cb3c1685c5",
   "metadata": {},
   "outputs": [
    {
     "data": {
      "text/plain": [
       "(720, 1280, 3)"
      ]
     },
     "execution_count": 7,
     "metadata": {},
     "output_type": "execute_result"
    }
   ],
   "source": [
    "orfd_label.shape"
   ]
  },
  {
   "cell_type": "code",
   "execution_count": 12,
   "id": "27886744-a4d2-4db2-973e-3d7a9c5a5eff",
   "metadata": {},
   "outputs": [
    {
     "data": {
      "text/plain": [
       "array([[[ 10,  10,  10],\n",
       "        [ 10,  10,  10],\n",
       "        [ 10,  10,  10],\n",
       "        ...,\n",
       "        [ 10,  10,  10],\n",
       "        [ 10,  10,  10],\n",
       "        [ 10,  10,  10]],\n",
       "\n",
       "       [[ 10,  10,  10],\n",
       "        [ 10,  10,  10],\n",
       "        [ 10,  10,  10],\n",
       "        ...,\n",
       "        [ 10,  10,  10],\n",
       "        [ 10,  10,  10],\n",
       "        [ 10,  10,  10]],\n",
       "\n",
       "       [[ 10,  10,  10],\n",
       "        [ 10,  10,  10],\n",
       "        [ 10,  10,  10],\n",
       "        ...,\n",
       "        [ 10,  10,  10],\n",
       "        [ 10,  10,  10],\n",
       "        [ 10,  10,  10]],\n",
       "\n",
       "       ...,\n",
       "\n",
       "       [[  0,   0,   0],\n",
       "        [  0,   0,   0],\n",
       "        [  0,   0,   0],\n",
       "        ...,\n",
       "        [255, 255, 255],\n",
       "        [255, 255, 255],\n",
       "        [255, 255, 255]],\n",
       "\n",
       "       [[  0,   0,   0],\n",
       "        [  0,   0,   0],\n",
       "        [  0,   0,   0],\n",
       "        ...,\n",
       "        [255, 255, 255],\n",
       "        [255, 255, 255],\n",
       "        [255, 255, 255]],\n",
       "\n",
       "       [[  0,   0,   0],\n",
       "        [  0,   0,   0],\n",
       "        [  0,   0,   0],\n",
       "        ...,\n",
       "        [255, 255, 255],\n",
       "        [255, 255, 255],\n",
       "        [255, 255, 255]]], dtype=uint8)"
      ]
     },
     "execution_count": 12,
     "metadata": {},
     "output_type": "execute_result"
    }
   ],
   "source": [
    "city_label"
   ]
  },
  {
   "cell_type": "code",
   "execution_count": 9,
   "id": "7f78bfc0-893c-475d-a84f-ca0aed73406a",
   "metadata": {},
   "outputs": [
    {
     "data": {
      "text/plain": [
       "array([[[  0,   0,   0],\n",
       "        [  0,   0,   0],\n",
       "        [  0,   0,   0],\n",
       "        ...,\n",
       "        [  0,   0,   0],\n",
       "        [  0,   0,   0],\n",
       "        [  0,   0,   0]],\n",
       "\n",
       "       [[  0,   0,   0],\n",
       "        [  0,   0,   0],\n",
       "        [  0,   0,   0],\n",
       "        ...,\n",
       "        [  0,   0,   0],\n",
       "        [  0,   0,   0],\n",
       "        [  0,   0,   0]],\n",
       "\n",
       "       [[  0,   0,   0],\n",
       "        [  0,   0,   0],\n",
       "        [  0,   0,   0],\n",
       "        ...,\n",
       "        [  0,   0,   0],\n",
       "        [  0,   0,   0],\n",
       "        [  0,   0,   0]],\n",
       "\n",
       "       ...,\n",
       "\n",
       "       [[255, 255, 255],\n",
       "        [255, 255, 255],\n",
       "        [255, 255, 255],\n",
       "        ...,\n",
       "        [  0,   0,   0],\n",
       "        [  0,   0,   0],\n",
       "        [  0,   0,   0]],\n",
       "\n",
       "       [[255, 255, 255],\n",
       "        [255, 255, 255],\n",
       "        [255, 255, 255],\n",
       "        ...,\n",
       "        [  0,   0,   0],\n",
       "        [  0,   0,   0],\n",
       "        [  0,   0,   0]],\n",
       "\n",
       "       [[255, 255, 255],\n",
       "        [255, 255, 255],\n",
       "        [255, 255, 255],\n",
       "        ...,\n",
       "        [  0,   0,   0],\n",
       "        [  0,   0,   0],\n",
       "        [  0,   0,   0]]], dtype=uint8)"
      ]
     },
     "execution_count": 9,
     "metadata": {},
     "output_type": "execute_result"
    }
   ],
   "source": [
    "orfd_label"
   ]
  },
  {
   "cell_type": "code",
   "execution_count": 16,
   "id": "03a6ad79-6485-46d5-840d-3efd7a55f8a2",
   "metadata": {},
   "outputs": [
    {
     "data": {
      "text/plain": [
       "array([  0,   1,   2,   3,   4,   5,   6,   7,   8,   9,  10,  11,  13,\n",
       "        14,  16, 255], dtype=uint8)"
      ]
     },
     "execution_count": 16,
     "metadata": {},
     "output_type": "execute_result"
    }
   ],
   "source": [
    "np.unique(city_label)"
   ]
  },
  {
   "cell_type": "code",
   "execution_count": 17,
   "id": "64f0ab40-a9c1-4c2b-9a9b-3abea01d08d6",
   "metadata": {},
   "outputs": [
    {
     "data": {
      "text/plain": [
       "array([  0, 128, 255], dtype=uint8)"
      ]
     },
     "execution_count": 17,
     "metadata": {},
     "output_type": "execute_result"
    }
   ],
   "source": [
    "np.unique(orfd_label)"
   ]
  },
  {
   "cell_type": "code",
   "execution_count": null,
   "id": "930c9652-8196-491c-90fd-493e42d19ed1",
   "metadata": {},
   "outputs": [],
   "source": []
  }
 ],
 "metadata": {
  "kernelspec": {
   "display_name": "Python 3 (ipykernel)",
   "language": "python",
   "name": "python3"
  },
  "language_info": {
   "codemirror_mode": {
    "name": "ipython",
    "version": 3
   },
   "file_extension": ".py",
   "mimetype": "text/x-python",
   "name": "python",
   "nbconvert_exporter": "python",
   "pygments_lexer": "ipython3",
   "version": "3.9.23"
  }
 },
 "nbformat": 4,
 "nbformat_minor": 5
}
